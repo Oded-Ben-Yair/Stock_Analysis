import os
import sys
import yfinance as yf
import matplotlib.pyplot as plt
import pandas as pd
import numpy as np
from datetime import datetime, timedelta
from sklearn.linear_model import LinearRegression
from openai import OpenAI

client = OpenAI(api_key=openai_api_key)

###############################################################################
#                           OpenAI Client Setup                               #
###############################################################################

openai_api_key = os.getenv("OPENAI_API_KEY")
if not openai_api_key:
    raise ValueError("⚠️ OpenAI API key not found. Set it in environment variables.")

# Initialize OpenAI client

def generate_recommendation_with_openai(prompt):
    """
    Sends a prompt to OpenAI Chat Completions API (GPT-4 or similar) 
    and returns the model's response.
    """
    try:
        response = client.chat.completions.create(model="gpt-4",  # or "gpt-3.5-turbo", etc.
        messages=[
            {
                "role": "system",
                "content": (
                    "You are a financial analyst. Provide clear and concise "
                    "investment advice for a non-expert user."
                )
            },
            {"role": "user", "content": prompt}
        ],
        max_tokens=400)
        return response.choices[0].message.content.strip()
    except Exception as e:
        return f"Error fetching recommendation from OpenAI API: {e}"

###############################################################################
#                      Data Fetching and Visualization                        #
###############################################################################

def fetch_stock_data(stock_ticker, months=12):
    """
    Fetches the last `months` months of data for the provided `stock_ticker`.
    Returns a pandas DataFrame with the fetched data or an empty DataFrame if no data is found.
    """
    end_date = datetime.now().date()
    start_date = end_date - timedelta(days=30 * months)  # ~12 months
    print(f"Fetching {months} months of data for '{stock_ticker}' from {start_date} to {end_date}...")

    stock_data = yf.download(stock_ticker, start=start_date, end=end_date, progress=False)
    return stock_data

def plot_stock_data(stock_ticker, stock_data):
    """
    Plots the closing price of the stock over time for better visualization.
    Ensures max/min price are floats to avoid formatting errors.
    """
    plt.figure(figsize=(12, 6))
    plt.plot(stock_data['Close'], label=f'{stock_ticker} Close Price', color='blue', linewidth=2)
    plt.grid(True, linestyle='--', alpha=0.7)
    plt.xlabel('Date', fontsize=12)
    plt.ylabel('Price ($)', fontsize=12)
    plt.title(f'{stock_ticker} - Last 12 Months Closing Prices', fontsize=14, fontweight='bold')

    # Find max & min
    max_idx = stock_data['Close'].idxmax()
    min_idx = stock_data['Close'].idxmin()

    # Safely convert .max() and .min() to float
    max_price = stock_data['Close'].max().item()
    min_price = stock_data['Close'].min().item()

    # Plot markers for highest and lowest
    plt.scatter(max_idx, max_price, color='green', marker='^', s=100, label=f'Highest ${max_price:.2f}')
    plt.scatter(min_idx, min_price, color='red', marker='v', s=100, label=f'Lowest ${min_price:.2f}')

    plt.legend()
    plt.show()

###############################################################################
#                           Forecasting Logic                                 #
###############################################################################

def forecast_next_weeks(stock_data, weeks=4):
    """
    Uses a simple Linear Regression model to predict the stock's closing price 
    for the next `weeks` weeks. Returns a dictionary {week_number: predicted_price}.
    """
    # Prepare data for regression: day indices (X) vs. close prices (y)
    y = stock_data['Close'].values  # shape (N,)
    X = np.arange(len(y)).reshape(-1, 1)

    model = LinearRegression()
    model.fit(X, y)

    predictions = {}
    last_index = len(X) - 1

    for w in range(1, weeks + 1):
        future_index = last_index + (w * 7)  # 7 days forward per week

        # model.predict(...) returns an array, so get the first element and .item() -> float
        predicted_price = model.predict([[future_index]])[0].item()
        predictions[f"Week {w}"] = predicted_price

    return predictions

###############################################################################
#                       Putting It All Together                               #
###############################################################################

def analyze_and_recommend(stock_ticker):
    """
    Main function that orchestrates:
    1) Data fetching
    2) Plotting past 12-month performance
    3) Forecasting next 4 weeks
    4) Generating an AI-based recommendation
    """
    print("\n==============================================")
    print(f"Analyzing {stock_ticker} for the last 12 months...")
    print("==============================================\n")

    # 1. Fetch the data
    stock_data = fetch_stock_data(stock_ticker, months=12)

    if stock_data.empty:
        print(f"⚠️ No data found for '{stock_ticker}'. Please check the ticker symbol.")
        return

    print(f"Data fetched successfully. Total records: {len(stock_data)}")

    # 2. Plot the data (Closing Price for last 12 months)
    plot_stock_data(stock_ticker, stock_data)

    # 3. Forecast next 4 weeks
    predictions = forecast_next_weeks(stock_data, weeks=4)
    print("\nForecast for the next 4 weeks:")
    for week, price in predictions.items():
        print(f"  {week}: ${price:.2f}")

    # 4. Generate AI-based recommendation
    # Grab the last known closing price as a scalar float
    arr = stock_data['Close'].tail(1).values  # e.g., array([123.45])
    latest_close = arr.item(0)               # pure Python float 123.45


    prompt = (
        f"Stock ticker: {stock_ticker}\n"
        f"Most recent closing price: {latest_close:.2f}\n"
        f"Past 12-month performance (from user perspective): Up/Down trend can be observed in the chart.\n"
        f"Predicted next 4 weeks closing prices:\n"
    )
    for week, price in predictions.items():
        prompt += f"  {week}: ${price:.2f}\n"

    prompt += (
        "Assume the user is not a finance expert; provide a simple explanation of these predictions, "
        "key factors influencing this stock (recent news, revenue expectations, new features, etc.), "
        "and a recommendation on whether to invest, hold, or sell within this 4-week window, "
        "with a rationale focusing on potential profit.\n"
    )

    # Call the OpenAI API
    recommendation = generate_recommendation_with_openai(prompt)
    print("\n=========================================================")
    print("AI-Generated Investment Recommendation:")
    print("=========================================================\n")
    print(recommendation)

###############################################################################
#                                Main Script                                  #
###############################################################################

if __name__ == "__main__":
    print("Welcome to the Stock Analyzer!\n")

    try:
        import matplotlib.pyplot as plt
    except ModuleNotFoundError as e:
        print("Matplotlib module is not installed. Please install it using 'pip install matplotlib'.")
        sys.exit(1)

    stock_ticker = input("Please enter the stock ticker symbol (e.g., AAPL, TSLA, GOOG): ").strip().upper()
    analyze_and_recommend(stock_ticker)


# In[ ]:




